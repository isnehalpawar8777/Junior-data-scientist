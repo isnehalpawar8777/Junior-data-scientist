{
 "cells": [
  {
   "cell_type": "markdown",
   "id": "bc4f7791",
   "metadata": {},
   "source": [
    "# PART 1 . Write a regex to extract all the numbers with orange color background from the below text in italics.\n"
   ]
  },
  {
   "cell_type": "code",
   "execution_count": 12,
   "id": "20ec34d0",
   "metadata": {},
   "outputs": [],
   "source": [
    "import re"
   ]
  },
  {
   "cell_type": "code",
   "execution_count": 13,
   "id": "e644b1ea",
   "metadata": {},
   "outputs": [],
   "source": [
    "text='''\n",
    "{\"orders\":[{\"id\":1},{\"id\":2},{\"id\":3},{\"id\":4},{\"id\":5},{\"id\":6},{\"id\":7},{\"id\":8},{\"id\":9},{\"id\":10},\n",
    "{\"id\":11},{\"id\":648},{\"id\":649},{\"id\":650},{\"id\":651},{\"id\":652},{\"id\":653}],\n",
    "\"errors\":[{\"code\":3,\"message\":\"[PHP Warning #2] count(): Parameter must \n",
    "be an array or an object that implements Countable (153)\"}]}'''"
   ]
  },
  {
   "cell_type": "code",
   "execution_count": 14,
   "id": "615ebbd7",
   "metadata": {},
   "outputs": [
    {
     "data": {
      "text/plain": [
       "['1',\n",
       " '2',\n",
       " '3',\n",
       " '4',\n",
       " '5',\n",
       " '6',\n",
       " '7',\n",
       " '8',\n",
       " '9',\n",
       " '10',\n",
       " '11',\n",
       " '648',\n",
       " '649',\n",
       " '650',\n",
       " '651',\n",
       " '652',\n",
       " '653',\n",
       " '3',\n",
       " '2',\n",
       " '153']"
      ]
     },
     "execution_count": 14,
     "metadata": {},
     "output_type": "execute_result"
    }
   ],
   "source": [
    "pattern='\\d{1,3}'\n",
    "matches=re.findall(pattern,text)\n",
    "matches"
   ]
  },
  {
   "cell_type": "markdown",
   "id": "00f6d3f3",
   "metadata": {},
   "source": [
    "Formally, a vector space V' is a subspace of a vector space V if\n",
    "V' is a vector space\n",
    "every element of V′ is also an element of V.\n",
    "Note that ordered pairs of real numbers (a,b) a,b∈R form a vector space V. Which of the following is a subspace of V?\n",
    "The set of pairs (a, a + 1) for all real a\n",
    "The set of pairs (a, b) for all real a ≥ b\n",
    "The set of pairs (a, 2a) for all real a\n",
    "The set of pairs (a, b) for all non-negative real a,b\n"
   ]
  },
  {
   "cell_type": "code",
   "execution_count": null,
   "id": "230e671f",
   "metadata": {},
   "outputs": [],
   "source": []
  }
 ],
 "metadata": {
  "kernelspec": {
   "display_name": "Python 3 (ipykernel)",
   "language": "python",
   "name": "python3"
  },
  "language_info": {
   "codemirror_mode": {
    "name": "ipython",
    "version": 3
   },
   "file_extension": ".py",
   "mimetype": "text/x-python",
   "name": "python",
   "nbconvert_exporter": "python",
   "pygments_lexer": "ipython3",
   "version": "3.8.13"
  }
 },
 "nbformat": 4,
 "nbformat_minor": 5
}
